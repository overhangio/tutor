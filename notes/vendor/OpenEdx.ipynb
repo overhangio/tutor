{
 "cells": [
  {
   "cell_type": "code",
   "execution_count": 2,
   "id": "cbe5179b",
   "metadata": {
    "ExecuteTime": {
     "end_time": "2021-11-23T06:58:16.701730Z",
     "start_time": "2021-11-23T06:58:16.692731Z"
    },
    "hide_input": true
   },
   "outputs": [
    {
     "data": {
      "text/html": [
       "<style>\n",
       ".rendered_html *{\n",
       "    text-align: left !important;\n",
       "}\n",
       "</style>\n"
      ],
      "text/plain": [
       "<IPython.core.display.HTML object>"
      ]
     },
     "metadata": {},
     "output_type": "display_data"
    }
   ],
   "source": [
    "%%html\n",
    "<style>\n",
    ".rendered_html *{\n",
    "    text-align: left !important;\n",
    "}\n",
    "</style>"
   ]
  },
  {
   "cell_type": "markdown",
   "id": "3b0fec6f",
   "metadata": {
    "ExecuteTime": {
     "end_time": "2021-11-23T06:04:55.732529Z",
     "start_time": "2021-11-23T06:04:55.727529Z"
    }
   },
   "source": [
    "# OpenEdx\n",
    "\n",
    "## Platform\n",
    "| Component | Description |\n",
    "|---|:---|\n",
    "| [edx-platform](https://github.com/edx/edx-platform) | It is the core repository of the [Open edX](https://open.edx.org) software. It includes the LMS (student-facing, delivering courseware), and Studio (course authoring) components. |\n",
    "| [studio-frontend](https://github.com/edx/studio-frontend) | <p>React front end for edX Studio</p> <p>For an introduction to what this repo is and how it fits into the rest of the edX platform, read [Studio-frontend: Developing Frontend Separate from edX Platform](https://engineering.edx.org/studio-frontend-developing-frontend-separate-from-edx-platform-7c91d76c7360).</p> |\n",
    "| [frontend-app-admin-portal](https://github.com/edx/frontend-app-admin-portal) | edx-portal is a frontend that provides branded learning experiences. |\n",
    "\n",
    "## Development\n",
    "| Component | Description |\n",
    "|---|:---|\n",
    "| [devstack](https://github.com/edx/devstack) | Devstack is the local Docker-based environment for developing in the Open edX platform. Use it to get up and running quickly with Open edX services. |\n",
    "| [configuration](https://github.com/edx/configuration) | A collection of edx configuration scripts and utilities that edx.org uses to deploy openedx. |\n",
    "| [edx-tools](https://github.com/edx/edx-tools) | A collection of miscellaneous tools for use with the edX platform. |\n",
    "| [edx-lint](https://github.com/edx/edx-lint) | Custom tooling for pylint and other repo management tools. |\n",
    "\n",
    "## Features\n",
    "### Business Management\n",
    "| Component | Description |\n",
    "|---|:---|\n",
    "| [ecommerce](https://github.com/edx/ecommerce) | [Service](http://edx-ecommerce.readthedocs.io/en/latest/) for managing edX's product catalog and handling orders for those products. |\n",
    "| [edx-enterprise](https://github.com/edx/edx-enterprise) | The Open edx Enterprise Service app provides enterprise features to the Open edX platform. The majority of these features are structured around the concept of an `Enterprise Customer`, which is an organization or a group of people that \"consumes\" courses published on the Open edX platform. |\n",
    "\n",
    "### Course Management\n",
    "| Component | Description |\n",
    "|---|:---|\n",
    "| [course-discovery](https://github.com/edx/course-discovery) | [Service](edx-discovery.readthedocs.io/en/latest/) providing access to consolidated course and program metadata |\n",
    "| [edx-demo-course](https://github.com/edx/edx-demo-course) | A demo course that can be imported into edX. |\n",
    "| [completion](https://github.com/edx/completion) | A library for tracking completion of blocks by learners in edX courses. |\n",
    "\n",
    "### Exams Management\n",
    "| Component | Description |\n",
    "|---|:---|\n",
    "| [ease](https://github.com/edx/ease) | EASE (Enhanced AI Scoring Engine) is a library that allows for machine learning based classification of textual content. This is useful for tasks such as scoring student essays. |\n",
    "| [edx-proctoring](https://github.com/edx/edx-proctoring) | This is the exam proctoring subsystem for the Open edX platform. |\n",
    "| [xqueue](https://github.com/edx/xqueue) | XQueue defines an interface for the LMS to communicate with external grader services. |\n",
    "| [edx-certificates](https://github.com/edx/edx-certificates) | ([Deprecated](https://openedx.atlassian.net/browse/DEPR-160)) The code edX uses to generate certificates. |\n",
    "| [edx-ora2](https://github.com/edx/edx-ora2) | [Open Response Assessment (ORA) XBlock](http://edx.readthedocs.org/projects/edx-partner-course-staff/en/latest/exercises_tools/open_response_assessments/index.html) for use within edx-platform |\n",
    "\n",
    "### Post Management\n",
    "| Component | Description |\n",
    "|---|:---|\n",
    "| [cs_comments_service](https://github.com/edx/cs_comments_service) | An independent comment system which supports voting and nested comments. It also supports features including instructor endorsement for education-aimed discussion platforms. |\n",
    "\n",
    "### Data Analysis & Reporting\n",
    "| Component | Description |\n",
    "|---|:---|\n",
    "| [edx-analytics-data-api](https://github.com/edx/edx-analytics-data-api) | <p>This repository includes the Django server for the API as well as the API package itself. The client is hosted at https://github.com/edx/edx-analytics-data-api-client.</p> <p>The enterprise client is hosted at https://github.com/edx/frontend-app-admin-portal.</p> |\n",
    "| [edx-analytics-dashboard](https://github.com/edx/edx-analytics-dashboard) | Dashboard to display course analytics to course teams. |\n",
    "| [edx-analytics-pipeline](https://github.com/edx/edx-analytics-pipeline) | <p>A data pipeline for analyzing Open edX data. This is a batch analysis engine that is capable of running complex data processing workflows.</p> <p>The data pipeline takes large amounts of raw data, analyzes it and produces higher value outputs that are used by various downstream tools.</p> <p>The primary consumer of this data is [Open edX Insights](http://edx.readthedocs.io/projects/edx-insights/en/latest/).</p> |\n",
    "\n",
    "### System Diagnosis\n",
    "| Component | Description |\n",
    "|---|:---|\n",
    "| [event-tracking](https://github.com/edx/event-tracking) | The event-tracking library tracks context-aware semi-structured system events. It captures and stores events with nested data structures in order to truly take advantage of schemaless data storage systems. |\n",
    "\n",
    "### Component System\n",
    "| Component | Description |\n",
    "|---|:---|\n",
    "| [XBlock](https://github.com/edx/XBlock) | XBlock is the Open edX component architecture for building courseware. |\n",
    "| [xblock-sdk](https://github.com/edx/xblock-sdk) | This repository consists of three main components to assist in the creation of new XBlocks:  <ul> <li>A template-based generator for new XBlocks (found in the prototype directory)</li> <li>Sample XBlocks that can be the basis for new XBlock work (found in the sample_xblocks directory)</li> <li>Workbench runtime, a simple runtime for viewing and testing XBlocks in a browser (found in the workbench directory)</li> </ul> |\n",
    "| [xblock-utils](https://github.com/edx/xblock-utils) | These are a collection of useful utility functions, test base classes and documentation shared by many XBlocks. (Especially those of [edx-solutions](https://github.com/edx-solutions).) |\n",
    "\n",
    "### Mobile\n",
    "| Component | Description |\n",
    "|---|:---|\n",
    "| [edx-app-android](https://github.com/edx/edx-app-android) | The Open EdX mobile app for [Android](https://docs.google.com/document/d/15MYZ2LAmahB82P5wkPkQOqjszfou0Qkeae3qz7STxUQ/edit)! |\n",
    "| [edx-app-ios](https://github.com/edx/edx-app-ios) | The Open edX mobile app for [iOS](https://docs.google.com/document/d/15MYZ2LAmahB82P5wkPkQOqjszfou0Qkeae3qz7STxUQ/edit)! |\n",
    "\n",
    "### Internationalization\n",
    "| Component | Description |\n",
    "|---|:---|\n",
    "| [i18n-tools](https://github.com/edx/i18n-tools) | Tools to help with internationalization and localization of Open edX projects. |\n",
    "\n",
    "### Licensing\n",
    "| Component | Description |\n",
    "|---|:---|\n",
    "| [license-manager](https://github.com/edx/license-manager) | Django backend for managing licenses and subscriptions. |\n",
    "\n",
    "## UI\n",
    "| Component | Description |\n",
    "|---|:---|\n",
    "| [bok-choy](https://github.com/edx/bok-choy) | UI-level acceptance test framework. [[docs](http://bok-choy.readthedocs.org/en/latest/)] |\n",
    "| [ux-pattern-library](https://github.com/edx/ux-pattern-library) | The (working) Visual, UI, and [Front End Styleguide](http://ux.edx.org/) for edX. |\n",
    "| [paragon](https://github.com/edx/paragon) | [Paragon](https://edx.github.io/paragon/) is a pattern library containing [accessible](https://www.w3.org/WAI/standards-guidelines/aria/) React components and a SCSS foundation built on Twitter Bootstrap. Paragon is developed for the Open edX platform. |\n",
    "\n",
    "## Proposals\n",
    "| Component | Description |\n",
    "|---|:---|\n",
    "| [open-edx-proposals](https://github.com/edx/open-edx-proposals) | <p>OEP (pronounced \"oh-epp\") stands for [Open edX (Enhancement) Proposal](https://open-edx-proposals.readthedocs.io/en/latest/). An OEP is a document that details a specific technology decision being made by the Open edX community, in the form of a best practice, architecture design, or process adjustment. An OEP should provide the use cases and rationales that surround that choice. OEPs are not the only way for a change to be made to Open edX, however, the goal is to create a collection of OEP documents as a repository or knowledge archive of large and broadly relevant choices made for the platform.</p> <p>View the published list of Open edX Proposals (OEPs) on ReadTheDocs.</p> |\n"
   ]
  },
  {
   "cell_type": "code",
   "execution_count": null,
   "id": "aa3d234b",
   "metadata": {},
   "outputs": [],
   "source": []
  }
 ],
 "metadata": {
  "celltoolbar": "Tags",
  "kernelspec": {
   "display_name": "Python 3 (ipykernel)",
   "language": "python",
   "name": "python3"
  },
  "language_info": {
   "codemirror_mode": {
    "name": "ipython",
    "version": 3
   },
   "file_extension": ".py",
   "mimetype": "text/x-python",
   "name": "python",
   "nbconvert_exporter": "python",
   "pygments_lexer": "ipython3",
   "version": "3.10.0"
  },
  "toc": {
   "base_numbering": 1,
   "nav_menu": {},
   "number_sections": true,
   "sideBar": true,
   "skip_h1_title": false,
   "title_cell": "Table of Contents",
   "title_sidebar": "Contents",
   "toc_cell": false,
   "toc_position": {},
   "toc_section_display": true,
   "toc_window_display": true
  }
 },
 "nbformat": 4,
 "nbformat_minor": 5
}
