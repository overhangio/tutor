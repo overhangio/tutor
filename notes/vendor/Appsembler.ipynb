{
 "cells": [
  {
   "cell_type": "code",
   "execution_count": 2,
   "id": "cbe5179b",
   "metadata": {
    "ExecuteTime": {
     "end_time": "2021-11-23T06:58:16.701730Z",
     "start_time": "2021-11-23T06:58:16.692731Z"
    },
    "hide_input": true
   },
   "outputs": [
    {
     "data": {
      "text/html": [
       "<style>\n",
       ".rendered_html *{\n",
       "    text-align: left !important;\n",
       "}\n",
       "</style>\n"
      ],
      "text/plain": [
       "<IPython.core.display.HTML object>"
      ]
     },
     "metadata": {},
     "output_type": "display_data"
    }
   ],
   "source": [
    "%%html\n",
    "<style>\n",
    ".rendered_html *{\n",
    "    text-align: left !important;\n",
    "}\n",
    "</style>"
   ]
  },
  {
   "cell_type": "markdown",
   "id": "3b0fec6f",
   "metadata": {
    "ExecuteTime": {
     "end_time": "2021-11-23T06:04:55.732529Z",
     "start_time": "2021-11-23T06:04:55.727529Z"
    }
   },
   "source": [
    "# Appsembler\n",
    "\n",
    "## Platform\n",
    "| Component | Description |\n",
    "|---|:---|\n",
    "| [edx-platform](https://github.com/appsembler/edx-platform) | Forked from [edx/edx-platform](https://github.com/edx/edx-platform) |\n",
    "\n",
    "## Features\n",
    "### Course Management\n",
    "\n",
    "### Component System\n",
    "| Component | Description |\n",
    "|---|:---|\n",
    "| [xblock-launchcontainer](https://github.com/appsembler/xblock-launchcontainer) | Open edX XBlock to launch containers from Appsembler's Virtual Labs (Wharf). |\n",
    "| [xblock-video](https://github.com/appsembler/xblock-video) | <p>Universal Video XBlock with pluggable backend for many video hosting providers.</p> Supported video platforms: <ul> <li>Brightcove</li> <li>Html5</li> <li>Vimeo</li> <li>Wistia</li> <li>Youtube</li> </ul> |\n",
    "| [xblock-grade-fetcher](https://github.com/appsembler/xblock-grade-fetcher) | Grade Fetcher XBlock |\n",
    "\n",
    "### Data Analysis\n",
    "| Component | Description |\n",
    "|---|:---|\n",
    "| [edx-search](https://github.com/appsembler/edx-search) | ElasticSearch indexing and APIs for the edX Platform. This Tahoe fork to support has_access to filter search results. |\n",
    "\n",
    "## UI\n",
    "| Component | Description |\n",
    "|---|:---|\n",
    "| [edx-theme-customers](https://github.com/appsembler/edx-theme-customers) | Template for customer theme configuration and overrides |\n"
   ]
  },
  {
   "cell_type": "code",
   "execution_count": null,
   "id": "aa3d234b",
   "metadata": {},
   "outputs": [],
   "source": []
  }
 ],
 "metadata": {
  "celltoolbar": "Tags",
  "kernelspec": {
   "display_name": "Python 3 (ipykernel)",
   "language": "python",
   "name": "python3"
  },
  "language_info": {
   "codemirror_mode": {
    "name": "ipython",
    "version": 3
   },
   "file_extension": ".py",
   "mimetype": "text/x-python",
   "name": "python",
   "nbconvert_exporter": "python",
   "pygments_lexer": "ipython3",
   "version": "3.10.0"
  },
  "toc": {
   "base_numbering": 1,
   "nav_menu": {},
   "number_sections": true,
   "sideBar": true,
   "skip_h1_title": false,
   "title_cell": "Table of Contents",
   "title_sidebar": "Contents",
   "toc_cell": false,
   "toc_position": {},
   "toc_section_display": true,
   "toc_window_display": true
  }
 },
 "nbformat": 4,
 "nbformat_minor": 5
}
