{
 "cells": [
  {
   "cell_type": "code",
   "execution_count": 1,
   "id": "e2704864",
   "metadata": {
    "ExecuteTime": {
     "end_time": "2021-11-24T10:57:18.867904Z",
     "start_time": "2021-11-24T10:57:18.850310Z"
    },
    "hide_input": true,
    "scrolled": false
   },
   "outputs": [
    {
     "data": {
      "text/html": [
       "<style>\n",
       ".rendered_html *{\n",
       "    text-align: left !important;\n",
       "}\n",
       "</style>\n"
      ],
      "text/plain": [
       "<IPython.core.display.HTML object>"
      ]
     },
     "metadata": {},
     "output_type": "display_data"
    }
   ],
   "source": [
    "%%html\n",
    "<style>\n",
    ".rendered_html *{\n",
    "    text-align: left !important;\n",
    "}\n",
    "</style>"
   ]
  },
  {
   "cell_type": "markdown",
   "id": "8cd48816",
   "metadata": {
    "ExecuteTime": {
     "end_time": "2021-11-23T03:14:48.329842Z",
     "start_time": "2021-11-23T03:14:48.317841Z"
    }
   },
   "source": [
    "# Solution Structure\n",
    "\n",
    "## Introduction\n",
    "[Tutor](https://docs.tutor.overhang.io/index.html) is the Docker-based [Open edX distribution](https://open.edx.org/) [[docs](https://edx.readthedocs.io/projects/edx-developer-guide/en/latest/index.html)] [[guide](https://edx.readthedocs.io/projects/edx-developer-guide/en/latest/index.html)], both for production and local development. The goal of Tutor is to make it easy to deploy, customize, upgrade and scale Open edX.\n",
    "\n",
    "**Tutor Links**\n",
    "- [Github](https://github.com/overhangio/tutor)\n",
    "- [Docs](https://docs.tutor.overhang.io/index.html)\n",
    "- [Video](https://www.youtube.com/watch?v=p0NoqR8zlyw)\n",
    "\n",
    "**Open eDx**\n",
    "The links to other [components](##Components) and [plugins](##Plugins) are available on their respective sections.\n",
    "- [Website](https://open.edx.org/)\n",
    "- [Wiki](https://openedx.atlassian.net/wiki/spaces/OpenOPS/overview)\n",
    "- [Docs](https://edx.readthedocs.io/projects/edx-developer-guide/en/latest/index.html)\n",
    "- [Guide](https://edx.readthedocs.io/projects/edx-developer-guide/en/latest/index.html)\n"
   ]
  },
  {
   "cell_type": "markdown",
   "id": "91735797",
   "metadata": {},
   "source": [
    "## Development\n",
    "The entry point program for `tutor` is located at `./setup.py`.\n",
    "```python\n",
    "entry_points={\"console_scripts\": [\"tutor=tutor.commands.cli:main\"]},\n",
    "```\n",
    "\n",
    "All startup components are then initialized within the `cli.py`'s `main` function.\n",
    "```python\n",
    "def main() -> None:\n",
    "    ...\n",
    "```\n",
    "\n",
    "### Pre-requisites\n",
    "To build and package `tutor` locally:\n",
    "\n",
    "1. Follow the steps in [DevSetup](./DevSetup.ipynb) to create and activate the `tutor` virtual environment with [venv](https://docs.python.org/3/library/venv.html).\n",
    "2. Restore all project dependencies with `pip install -r ./requirements/dev.in`. \n",
    "3. Ensure that the following build tools are installed via `pip list`.\n",
    "    - [setuptools](https://pypi.org/project/setuptools/)\n",
    "    - [wheel](https://pypi.org/project/wheel/)\n",
    "    - [twine](https://pypi.org/project/twine/)\n",
    "4. Ensure the following files are available [before building the library](https://medium.com/analytics-vidhya/how-to-create-a-python-library-7d5aea80cc3f):\n",
    "\n",
    "| Files | Description |\n",
    "|---|---|\n",
    "| setup.py | `setuptools` will read the library configuration from this file. |\n",
    "| tutor | The application folder containing business logics. |\n",
    "| tutor/__init__.py | Upon import of the library, this file will automatically get executed and discover all functions that are exposed from the library. |\n",
    "| tests | Unit tests for your library |\n",
    "\n",
    "### Build and Debug\n",
    "1. After writing your changes, you can try to [install and debug](https://stackoverflow.com/a/69102148/3104587) `tutor` locally with `pip install -e .`, so it can still be edited in-place.\n",
    "2. Setup neccessary breakpoints with either of the follwing ways:\n",
    "    - In VSCode, set breakpoint manually on the left gutter.\n",
    "    - Set breakpoints using python debug frameworks:\n",
    "        - [debugpy](https://code.visualstudio.com/docs/python/debugging#_command-line-debugging): `debugpy.breakpoint()`\n",
    "3. You can then try to debug your codes with one of the following ways:\n",
    "    - In VSCode, run the `Python: Startup` or `Python: Current File` debug profile in the Run and Debug menu.\n",
    "    - If you set breakpoints using debugging frameworks, then:\n",
    "        - [debugpy](https://code.visualstudio.com/docs/python/debugging#_command-line-debugging): `python -m debugpy --listen 0.0.0.0:5678 --wait-for-client ./myscript.py`\n",
    "        - Finally, attach the debugging framework process with your code editor, e.g. [VSCode](https://code.visualstudio.com/docs/python/debugging#_command-line-debugging).\n",
    "\n",
    "\n",
    "### Packaging\n",
    "To [package and distribute](https://packaging.python.org/guides/distributing-packages-using-setuptools/) `tutor` to either [Pypi](https://pypi.org/) or to your private repository. \n",
    "1. Build `tutor` via the command `python setup.py build` or `python setup.py bdist_wheel`. This should create the following folders:\n",
    "    - build\n",
    "    - tutor.egg-info\n",
    "    - dist\n",
    "2. Check the build manifests under `./build/lib` folder.\n",
    "3. Try install the built package onto your virtual environment using `pip install './dist/tutor.whl'`.\n",
    "4. Upload your library to Pypi to private repository using `python -m twine upload dist/*`.\n",
    "\n",
    "\n",
    "### Testing\n",
    "All tests should be written into the `./tests` folder. Currently, tutor uses the following python libraries for testing:\n",
    "- pylint\n",
    "- mypy\n",
    "- black\n",
    "- unittest (`python -m unittest discover tests`)"
   ]
  },
  {
   "cell_type": "markdown",
   "id": "7cef753f",
   "metadata": {},
   "source": [
    "## Commands\n",
    "In tutor, every commands stated in the `main` function earlier has its own dedicated module within the solution folder `./commands`. Those commands are basically thin wrappers around other tools, e.g. `tutor k8s` are wrapper to the `kubectl` command.\n",
    "\n",
    "| Module | Description |\n",
    "|---|:---|\n",
    "| local | Run Open edX locally with docker-compose. |\n",
    "| dev | Run Open edX locally with development settings. |\n",
    "| k8s | Run Open edX on Kubernetes |\n",
    "| print_help |  |\n",
    "| config_command | Configure Open edX and store configuration values in $TUTOR_ROOT/config.yml. |\n",
    "| images_command |  |\n",
    "| plugins_command |  |\n"
   ]
  },
  {
   "cell_type": "markdown",
   "id": "23678f2a",
   "metadata": {
    "ExecuteTime": {
     "end_time": "2021-11-23T11:35:32.638806Z",
     "start_time": "2021-11-23T11:35:32.626819Z"
    }
   },
   "source": [
    "## Configuration\n",
    "Each instance of `tutor` hosted will have their own configuration root.\n",
    "```python\n",
    "tutor config printroot\n",
    "ls -la\n",
    "```\n",
    "\n",
    "### Global Configuration\n",
    "Inside the configuration root folder, it will then contain various configurations for that `tutor` instance. With Tutor, all Open edX deployment parameters are stored in a single `config.yml` file.\n",
    "\n",
    "| Path | Description |\n",
    "|---|:---|\n",
    "| data | Contain app configurations for each `tutor` application. |\n",
    "| env | Contains environmental specific configurations. E.g. if tutor is hosted with `tutor k8s quickstart` command, all Kubernetes object configurations yaml will be contained here.  <table> <thead>   <tr>     <th>Path</th>     <th>Description</th>   </tr> </thead> <tbody>   <tr>     <td>data</td>     <td>Contains </td>   </tr>   <tr>     <td>env</td>     <td>Contains environmental specific configurations. E.g. if tutor is hosted with `tutor k8s quickstart` command, all Kubernetes object configurations yaml will be contained here.</td>   </tr>   <tr>     <td>config.yml</td>     <td>All Open Edx global configurations are stored here for the hosted instance.</td>   </tr> </tbody> </table> |\n",
    "| config.yml | All Open Edx global configurations are stored here for the hosted instance. |\n",
    "\n",
    "When resolving the global configuration values, `tutor` will follow the following priority:\n",
    "- `config.yml`\n",
    "- `defaults.config.yml`\n",
    "- `user.config.yml`\n",
    "- Environment variables (prefixed with `TUTOR_`)\n",
    "\n",
    "With an up-to-date environment, Tutor is ready to launch an Open edX platform and perform usual operations. Below, we document some of the configuration parameters.\n",
    "\n",
    "### Service Configuration\n",
    "Every instance of `tutor` comes with a few built-in service that can be configured.\n",
    "\n",
    "| Config | Description |\n",
    "|---|:---|\n",
    "| RUN_LMS | (default: true) |\n",
    "| RUN_CMS | (default: true) |\n",
    "| RUN_FORUM | (default: true) |\n",
    "| RUN_ELASTICSEARCH | (default: true) |\n",
    "| RUN_MONGODB | (default: true) |\n",
    "| RUN_MYSQL | (default: true) |\n",
    "| RUN_REDIS | (default: true) |\n",
    "| RUN_SMTP | (default: true) |\n",
    "| ENABLE_HTTPS | (default: false) |\n",
    "\n",
    "### Docker Configuration\n",
    "\n",
    "### LMS Configuration\n",
    "| Config | Description |\n",
    "|---|:---|\n",
    "| LMS_HOST | |"
   ]
  },
  {
   "cell_type": "markdown",
   "id": "de77f9c2",
   "metadata": {},
   "source": [
    "## Template\n",
    "The `tutor` templates are pre-defined configuration templates used for deployment. Depending on which environment `tutor` will be deployed to, the templates will used global configuration values from `config.yml` and store the final configuration on the `env` folder.\n",
    "\n",
    "All templates are contained within the `./templates` folder:\n",
    "\n",
    "| Path | Description |\n",
    "|---|:---|\n",
    "| apps | Configuration templates for each `tutor` depedencies. |\n",
    "| build | Configuration templates for building `tutor`. |\n",
    "| dev, local, k8s | Configuration templates for each deployment environments. |\n",
    "| hooks | Additional container hooks that will run during deployment. |\n"
   ]
  },
  {
   "cell_type": "markdown",
   "id": "bf2f1e9d",
   "metadata": {},
   "source": [
    "## Plugin\n",
    "Tutor comes with a [plugin](https://docs.tutor.overhang.io/plugins.html) system that allows anyone to customise the deployment of an Open edX platform very easily. The vision behind this plugin system is that users should not have to fork the Tutor repository to customise their deployments. \n",
    "\n",
    "### API\n",
    "Plugins can affect the behaviour of Tutor at multiple levels. E.g., plugins can define new services with their Docker images, settings and the right initialisation commands. To do so you will have to define custom [config](https://docs.tutor.overhang.io/plugins/api.html#plugin-config), [patches](https://docs.tutor.overhang.io/plugins/api.html#plugin-patches), [hooks](https://docs.tutor.overhang.io/plugins/api.html#plugin-hooks) and [templates](https://docs.tutor.overhang.io/plugins/api.html#plugin-templates). Then, plugins can also extend the CLI by defining their own [commands](https://docs.tutor.overhang.io/plugins/api.html#plugin-command).\n",
    "\n",
    "### YAML\n",
    "[YAML files](https://docs.tutor.overhang.io/plugins/gettingstarted.html#yaml-file) that are stored in the tutor plugins root folder will be automatically considered as plugins. The location of the plugin root can be found by running:\n",
    "```python\n",
    "tutor plugins printroot\n",
    "```\n",
    "\n",
    "### Python\n",
    "[Creating a plugin as a Python package](https://docs.tutor.overhang.io/plugins/gettingstarted.html#python-package) allows you to define more complex logic and to store your patches in a more structured way. Python Tutor plugins are regular Python packages that define a specific entrypoint: `tutor.plugin.v0`.\n",
    "\n",
    "```python\n",
    "from setuptools import setup\n",
    "setup(\n",
    "    ...\n",
    "    entry_points={\"tutor.plugin.v0\": [\"myplugin = myplugin.plugin\"]},\n",
    ")\n",
    "```"
   ]
  },
  {
   "cell_type": "markdown",
   "id": "e6cb5495",
   "metadata": {},
   "source": [
    "## Theming\n",
    "\n",
    "[Comprehensive theming](https://edx.readthedocs.io/projects/edx-installing-configuring-and-running/en/latest/ecommerce/theming.html) allows users to change the Open Edx platform appearence.\n",
    "\n",
    "### Static Assets\n"
   ]
  },
  {
   "cell_type": "markdown",
   "id": "ff5f7a94",
   "metadata": {},
   "source": [
    "## Dependencies\n",
    "The following are some of the most used dependencies in tutor:\n",
    "\n",
    "### Required\n",
    "Note that pip does not use `requirements.yml` / `requirements.txt` when your project is installed as a dependency by others. Generally, for that, you will have to specify dependencies in the `install_requires` and `tests_require` arguments in your `setup.py` file.\n",
    "\n",
    "```python\n",
    "install_requires=load_requirements(),\n",
    "```\n",
    "\n",
    "### Development\n",
    "| Component | Description |\n",
    "|---|:---|\n",
    "| [Appdirs](https://github.com/ActiveState/appdirs) | Defines OS agnostics app configuration directory paths |\n",
    "| [Click](https://click.palletsprojects.com/) | Click is a Python package for creating beautiful command line interfaces in a composable way with as little code as necessary. |\n",
    "| [Jinja](https://jinja.palletsprojects.com/en) | Jinja is a fast, expressive, extensible templating engine. Special placeholders in the template allow writing code similar to Python syntax. Then the template is passed data to render the final document. |\n",
    "| [Mypy](https://mypy.readthedocs.io/en/stable/) | Mypy is a static type checker for Python 3 and Python 2.7. |\n",
    "| [Pylint](https://pylint.org/) | Pylint is a Python static code analysis tool which looks for programming errors, helps enforcing a coding standard, sniffs for code smells and offers simple refactoring suggestions. |"
   ]
  },
  {
   "cell_type": "markdown",
   "id": "aae944fd",
   "metadata": {},
   "source": [
    "## TODO\n",
    "\n",
    "The following are the lists of TODO for the future development for `tutor` only:\n",
    "- Use pytest instead of unittest module."
   ]
  }
 ],
 "metadata": {
  "kernelspec": {
   "display_name": "Python 3 (ipykernel)",
   "language": "python",
   "name": "python3"
  },
  "language_info": {
   "codemirror_mode": {
    "name": "ipython",
    "version": 3
   },
   "file_extension": ".py",
   "mimetype": "text/x-python",
   "name": "python",
   "nbconvert_exporter": "python",
   "pygments_lexer": "ipython3",
   "version": "3.10.0"
  },
  "toc": {
   "base_numbering": 1,
   "nav_menu": {},
   "number_sections": true,
   "sideBar": true,
   "skip_h1_title": false,
   "title_cell": "Table of Contents",
   "title_sidebar": "Contents",
   "toc_cell": false,
   "toc_position": {},
   "toc_section_display": true,
   "toc_window_display": true
  }
 },
 "nbformat": 4,
 "nbformat_minor": 5
}
