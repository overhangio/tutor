{
 "cells": [
  {
   "cell_type": "code",
   "execution_count": null,
   "id": "55dd96b0",
   "metadata": {
    "hide_input": true
   },
   "outputs": [],
   "source": [
    "%%html\n",
    "<style>\n",
    ".rendered_html *{\n",
    "    text-align: left !important;\n",
    "}\n",
    "</style>"
   ]
  },
  {
   "cell_type": "markdown",
   "id": "703b91b7",
   "metadata": {},
   "source": [
    " # Development Setup\n",
    " When setting up the development environment, you are advised to use `venv` to [setup virtual environments](https://docs.python.org/3/library/venv.html) for both [tutor](https://github.com/overhangio/tutor) and [openedx-platform](https://github.com/edx/edx-platform).\n",
    " \n",
    " 1. Git clone the [tutor repository](https://github.com/overhangio/tutor). Optionally, you can use pip to install to your local directory:\n",
    "    ```python\n",
    "    mkdir /path/to/tutor\n",
    "    pip install -e .\n",
    "    ```\n",
    " 2. Change directory into tutor.\n",
    " 3. Create a new virtual environment for tutor.\n",
    "    ``` python\n",
    "    python -m venv .tutor --upgrade-deps\n",
    "    ```\n",
    " 4. Activate the newly created environment (See docs for platform specific activation command to use).\n",
    "    ``` cmd\n",
    "    C:\\> <venv>\\Scripts\\activate.bat\n",
    "    ```\n",
    " 5. Install all project dependencies into the virtual environment.\n",
    "    ``` python\n",
    "    pip install -r ./requirements/dev.txt\n",
    "    pip list\n",
    "    ```\n",
    " \n",
    " 6. Ensure that the following files are present in `./.vscode` folder. It contains all the neccessary setup configurations for vscode.\n",
    "    - [settings.json](https://code.visualstudio.com/docs/python/linting)\n",
    "    - [launch.json](https://code.visualstudio.com/docs/python/debugging#_initialize-configurations)\n",
    "\n",
    "\n",
    " 7. Run the python unit test to ensure everything is setup correctly.\n",
    " ``` cmd\n",
    "    make test\n",
    " ```"
   ]
  },
  {
   "cell_type": "code",
   "execution_count": null,
   "id": "bf816ae0",
   "metadata": {},
   "outputs": [],
   "source": []
  }
 ],
 "metadata": {
  "celltoolbar": "Raw Cell Format",
  "kernelspec": {
   "display_name": "Python 3 (ipykernel)",
   "language": "python",
   "name": "python3"
  },
  "language_info": {
   "codemirror_mode": {
    "name": "ipython",
    "version": 3
   },
   "file_extension": ".py",
   "mimetype": "text/x-python",
   "name": "python",
   "nbconvert_exporter": "python",
   "pygments_lexer": "ipython3",
   "version": "3.10.0"
  },
  "toc": {
   "base_numbering": 1,
   "nav_menu": {},
   "number_sections": true,
   "sideBar": true,
   "skip_h1_title": false,
   "title_cell": "Table of Contents",
   "title_sidebar": "Contents",
   "toc_cell": false,
   "toc_position": {},
   "toc_section_display": true,
   "toc_window_display": false
  }
 },
 "nbformat": 4,
 "nbformat_minor": 5
}
