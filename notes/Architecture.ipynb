{
 "cells": [
  {
   "cell_type": "markdown",
   "id": "8cd48816",
   "metadata": {
    "ExecuteTime": {
     "end_time": "2021-11-23T03:14:48.329842Z",
     "start_time": "2021-11-23T03:14:48.317841Z"
    }
   },
   "source": [
    "# Architecture\n",
    "## Introduction\n",
    "[Tutor](https://docs.tutor.overhang.io/index.html) is the Docker-based [Open edX distribution](https://open.edx.org/) [[docs](https://edx.readthedocs.io/projects/edx-developer-guide/en/latest/index.html)] [[guide](https://edx.readthedocs.io/projects/edx-developer-guide/en/latest/index.html)], both for production and local development. The goal of Tutor is to make it easy to deploy, customize, upgrade and scale Open edX.\n",
    "\n",
    "**Tutor Links**\n",
    "- [Github](https://github.com/overhangio/tutor)\n",
    "- [Docs](https://docs.tutor.overhang.io/index.html)\n",
    "- [Video](https://www.youtube.com/watch?v=p0NoqR8zlyw)\n",
    "\n",
    "**Open eDx**\n",
    "The links to other [components](##Components) and [plugins](##Plugins) are available on their respective sections.\n",
    "- [Website](https://open.edx.org/)\n",
    "- [Wiki](https://openedx.atlassian.net/wiki/spaces/OpenOPS/overview)\n",
    "- [Docs](https://edx.readthedocs.io/projects/edx-developer-guide/en/latest/index.html)\n",
    "- [Guide](https://edx.readthedocs.io/projects/edx-developer-guide/en/latest/index.html)\n",
    "\n",
    "## Startup\n",
    "\n",
    "## Components\n"
   ]
  },
  {
   "cell_type": "code",
   "execution_count": null,
   "id": "c0b4c7d6",
   "metadata": {},
   "outputs": [],
   "source": []
  }
 ],
 "metadata": {
  "kernelspec": {
   "display_name": "Python 3 (ipykernel)",
   "language": "python",
   "name": "python3"
  },
  "language_info": {
   "codemirror_mode": {
    "name": "ipython",
    "version": 3
   },
   "file_extension": ".py",
   "mimetype": "text/x-python",
   "name": "python",
   "nbconvert_exporter": "python",
   "pygments_lexer": "ipython3",
   "version": "3.10.0"
  },
  "toc": {
   "base_numbering": 1,
   "nav_menu": {},
   "number_sections": true,
   "sideBar": true,
   "skip_h1_title": false,
   "title_cell": "Table of Contents",
   "title_sidebar": "Contents",
   "toc_cell": false,
   "toc_position": {},
   "toc_section_display": true,
   "toc_window_display": false
  }
 },
 "nbformat": 4,
 "nbformat_minor": 5
}
